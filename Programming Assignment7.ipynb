{
 "cells": [
  {
   "cell_type": "markdown",
   "id": "28012b0b-3b55-4c68-8f9d-81a99ca04af2",
   "metadata": {},
   "source": [
    "1.Write a Python Program to find sum of array?"
   ]
  },
  {
   "cell_type": "code",
   "execution_count": 6,
   "id": "a54b6f69-fd03-4579-8bad-6150b683f9a1",
   "metadata": {},
   "outputs": [
    {
     "name": "stdout",
     "output_type": "stream",
     "text": [
      "Sum :  24\n"
     ]
    }
   ],
   "source": [
    "\n",
    "sum =0\n",
    "arr = [1,2,3,4,5,9]\n",
    "for i in range(0,len(arr)):\n",
    "    sum+=arr[i]\n",
    "print(\"Sum : \",sum)"
   ]
  },
  {
   "cell_type": "markdown",
   "id": "00c330e4-0689-4e87-baba-331de5b6d470",
   "metadata": {},
   "source": [
    "2.Write a Python Program to find largest element in an array?"
   ]
  },
  {
   "cell_type": "code",
   "execution_count": 3,
   "id": "9494d71f-15e5-4cca-9408-5d66f68d453c",
   "metadata": {},
   "outputs": [
    {
     "name": "stdout",
     "output_type": "stream",
     "text": [
      "Largest element in the array: 20\n"
     ]
    }
   ],
   "source": [
    "\n",
    "array = [10, 5, 20, 8, 15]\n",
    " \n",
    "largest_element = max(array, key=lambda x: x)\n",
    "print(\"Largest element in the array:\", largest_element)"
   ]
  },
  {
   "cell_type": "markdown",
   "id": "548cbd69-2875-4c41-9633-047d23831d3c",
   "metadata": {},
   "source": [
    "3.Write a Python Program for array rotation?"
   ]
  },
  {
   "cell_type": "code",
   "execution_count": 10,
   "id": "6fafc937-72d0-455b-b38f-fac778969f46",
   "metadata": {},
   "outputs": [
    {
     "name": "stdout",
     "output_type": "stream",
     "text": [
      "6\n",
      "7\n",
      "4\n",
      "3\n",
      "2\n"
     ]
    }
   ],
   "source": [
    "arr = [1,2,3,4,7,6]\n",
    "rot = []\n",
    "l = len(arr) -1\n",
    "for i in range(l , 0, -1):\n",
    "  print(arr[i])\n"
   ]
  },
  {
   "cell_type": "code",
   "execution_count": null,
   "id": "2767380d-a301-414c-b5f8-123b833bbf89",
   "metadata": {},
   "outputs": [],
   "source": [
    "4. Write a Python Program to Split the array and add the first part to the end?"
   ]
  },
  {
   "cell_type": "code",
   "execution_count": 5,
   "id": "a2a95874-82f4-44b5-826e-dd9dc8a7b787",
   "metadata": {},
   "outputs": [
    {
     "name": "stdout",
     "output_type": "stream",
     "text": [
      "5 6 52 36 12 10 "
     ]
    }
   ],
   "source": [
    "\n",
    "def splitArr(arr, n, k):\n",
    "    for i in range(0, k):\n",
    "        x = arr[0]\n",
    "        for j in range(0, n-1):\n",
    "            arr[j] = arr[j + 1]\n",
    " \n",
    "        arr[n-1] = x\n",
    " \n",
    " \n",
    "\n",
    "arr = [12, 10, 5, 6, 52, 36]\n",
    "n = len(arr)\n",
    "position = 2\n",
    " \n",
    "splitArr(arr, n, position)\n",
    " \n",
    "for i in range(0, n):\n",
    "    print(arr[i], end=' ')"
   ]
  },
  {
   "cell_type": "markdown",
   "id": "64a6c9b0-bfa5-46ea-9022-a40b5f98bd7e",
   "metadata": {},
   "source": [
    "5. Write a Python Program to check if given array is Monotonic?"
   ]
  },
  {
   "cell_type": "code",
   "execution_count": 11,
   "id": "35df18cc-3ccf-4036-a2b5-df09aebf8277",
   "metadata": {},
   "outputs": [
    {
     "name": "stdout",
     "output_type": "stream",
     "text": [
      "True\n"
     ]
    }
   ],
   "source": [
    "def isMonotonic(arr):\n",
    "\tif len(arr) <= 2:\n",
    "\t\treturn True\n",
    "\tdirection = arr[1] - arr[0]\n",
    "\tfor i in range(2, len(arr)):\n",
    "\t\tif direction == 0:\n",
    "\t\t\tdirection = arr[i] - arr[i - 1]\n",
    "\t\t\tcontinue\n",
    "\t\tif (direction > 0 and arr[i] < arr[i - 1]) or (direction < 0 and arr[i] > arr[i - 1]):\n",
    "\t\t\treturn False\n",
    "\treturn True\n",
    "\n",
    "\n",
    "arr1 = [1, 2, 3, 4, 5] \n",
    "\n",
    "\n",
    "print(isMonotonic(arr1)) \n",
    "\n"
   ]
  },
  {
   "cell_type": "code",
   "execution_count": null,
   "id": "7548e0c2-7858-4ed1-b4f5-f6ba2f1497ee",
   "metadata": {},
   "outputs": [],
   "source": []
  }
 ],
 "metadata": {
  "kernelspec": {
   "display_name": "Python 3 (ipykernel)",
   "language": "python",
   "name": "python3"
  },
  "language_info": {
   "codemirror_mode": {
    "name": "ipython",
    "version": 3
   },
   "file_extension": ".py",
   "mimetype": "text/x-python",
   "name": "python",
   "nbconvert_exporter": "python",
   "pygments_lexer": "ipython3",
   "version": "3.10.6"
  }
 },
 "nbformat": 4,
 "nbformat_minor": 5
}
